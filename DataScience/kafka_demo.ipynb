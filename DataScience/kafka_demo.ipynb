{
 "cells": [
  {
   "cell_type": "markdown",
   "metadata": {
    "id": "DLrDFjKHiMMA"
   },
   "source": [
    "# Kafka Demo\n",
    "\n",
    "### Connect to Kafka Broker Server\n",
    "```\n",
    "ssh -o ServerAliveInterval=60 -L 9092:localhost:9092 tunnel@128.2.24.106 -NTf\n",
    "```\n",
    "pass: seaitunnel\n",
    "\n",
    "\n",
    "To kill connection at port:\n",
    "```\n",
    "lsof -ti:9092 | xargs kill -9\n",
    "```\n",
    "\n",
    "### Setup\n",
    "```\n",
    "python -m pip install kafka-python\n",
    "```"
   ]
  },
  {
   "cell_type": "code",
   "execution_count": 29,
   "metadata": {
    "id": "PUNMUptniMMC"
   },
   "outputs": [],
   "source": [
    "from os import path\n",
    "import sys, os\n",
    "from datetime import datetime\n",
    "from json import dumps, loads\n",
    "from time import sleep\n",
    "from random import randint\n",
    "import numpy as np\n",
    "# ssh -o ServerAliveInterval=60 -L 9092:localhost:9092 tunnel@128.2.24.106 -NTf\n",
    "from kafka import KafkaConsumer, KafkaProducer\n",
    "\n",
    "# Update this for your demo otherwise you'll see my data :)\n",
    "topic = 'movielog7'"
   ]
  },
  {
   "cell_type": "markdown",
   "metadata": {},
   "source": [
    "### Producer Mode -> Writes Data to Broker"
   ]
  },
  {
   "cell_type": "code",
   "execution_count": 30,
   "metadata": {},
   "outputs": [],
   "source": [
    "# # Create a producer to write data to kafka\n",
    "# # Ref: https://kafka-python.readthedocs.io/en/master/apidoc/KafkaProducer.html\n",
    "# producer = KafkaProducer(bootstrap_servers=['localhost:9092'],\n",
    "#                         value_serializer=lambda x: dumps(x).encode('utf-8'),\n",
    "#                         )\n",
    "# cities = ['Pittsburgh','New York','London','Bangalore','Shanghai','Tokyo','Munich']\n",
    "# # Write data via the producer\n",
    "# print(\"Writing to Kafka Broker\")\n",
    "# for i in range(10):\n",
    "#     data = f'{datetime.now().strftime(\"%Y-%m-%d %H:%M:%S\")},{cities[randint(0,len(cities)-1)]},{randint(18, 32)}ºC'\n",
    "#     print(f\"Writing: {data}\")\n",
    "#     producer.send(topic=topic, value=data)\n",
    "#     sleep(1)"
   ]
  },
  {
   "cell_type": "markdown",
   "metadata": {},
   "source": [
    "### Consumer Mode -> Reads Data from Broker"
   ]
  },
  {
   "cell_type": "code",
   "execution_count": null,
   "metadata": {},
   "outputs": [
    {
     "name": "stdout",
     "output_type": "stream",
     "text": [
      "Reading Kafka Broker\n"
     ]
    }
   ],
   "source": [
    "# Create a consumer to read data from kafka\n",
    "# Ref: https://kafka-python.readthedocs.io/en/master/apidoc/KafkaConsumer.html\n",
    "consumer = KafkaConsumer(\n",
    "    topic,\n",
    "    bootstrap_servers=['localhost:9092'],\n",
    "    # Read from the start of the topic; Default is latest\n",
    "    auto_offset_reset='earliest',\n",
    "    # auto_offset_reset='latest',\n",
    "    # group_id='team13',\n",
    "    # Commit that an offset has been read\n",
    "    enable_auto_commit=True,\n",
    "    # How often to tell Kafka, an offset has been read\n",
    "    auto_commit_interval_ms=1000\n",
    ")\n",
    "\n",
    "search_str=\"/rate/\"\n",
    "\n",
    "print('Reading Kafka Broker')\n",
    "for message in consumer:\n",
    "        message = message.value.decode()\n",
    "        if \"/rate/\" in message:\n",
    "                ratting=message[-1:]\n",
    "                index_=message.index(search_str)\n",
    "                movie_id=message[index_+len(search_str):-2]\n",
    "                message=message[:message.index(\"GET\")]+movie_id+\",\"+ratting\n",
    "                os.system(f\"echo {message} >> kafka_log_sample.csv\")"
   ]
  },
  {
   "cell_type": "code",
   "execution_count": 47,
   "metadata": {},
   "outputs": [
    {
     "name": "stdout",
     "output_type": "stream",
     "text": [
      "{'id': 'freeway+1996', 'tmdb_id': 11229, 'imdb_id': 'tt0116361', 'title': 'Freeway', 'original_title': 'Freeway', 'adult': 'False', 'belongs_to_collection': {'id': 355490, 'name': 'Freeway Collection', 'poster_path': '/u5BhFwbnLg07R9VXlPeSxKT0FNR.jpg', 'backdrop_path': '/ysDeNGwgvTmdYuBF7njZ71bVIh4.jpg'}, 'budget': '3000000', 'genres': [{'id': 35, 'name': 'Comedy'}, {'id': 18, 'name': 'Drama'}, {'id': 53, 'name': 'Thriller'}], 'homepage': 'null', 'original_language': 'en', 'overview': 'Following the arrest of her mother, Ramona, young Vanessa Lutz decides to go in search of her estranged grandmother. On the way, she is given a ride by school counselor Bob Wolverton. During the journey, Lutz begins to realize that Bob is the notorious I-5 Killer and manages to escape by shooting him several times. Wounded but still very much alive, Bob pursues Lutz across the state in this modern retelling of Little Red Riding Hood.', 'popularity': '7.088533', 'poster_path': '/4MWOlH15xAAfAImKc44lD8b3dIf.jpg', 'production_companies': [{'name': 'The Kushner-Locke Company', 'id': 2499}, {'name': 'August Entertainment', 'id': 3322}, {'name': 'Multicom entertainment', 'id': 30702}], 'production_countries': [{'iso_3166_1': 'US', 'name': 'United States of America'}], 'release_date': '1996-08-23', 'revenue': '0', 'runtime': 110, 'spoken_languages': [{'iso_639_1': 'en', 'name': 'English'}], 'status': 'Released', 'vote_average': '6.5', 'vote_count': '95'}\n",
      "dict_keys(['id', 'tmdb_id', 'imdb_id', 'title', 'original_title', 'adult', 'belongs_to_collection', 'budget', 'genres', 'homepage', 'original_language', 'overview', 'popularity', 'poster_path', 'production_companies', 'production_countries', 'release_date', 'revenue', 'runtime', 'spoken_languages', 'status', 'vote_average', 'vote_count'])\n"
     ]
    }
   ],
   "source": [
    "# Calling the API using the movieid\n",
    "import requests\n",
    "\n",
    "movie_id=\"freeway+1996\"\n",
    "url = \"http://128.2.204.215:8080/movie/\"+movie_id\n",
    "\n",
    "response = requests.get(url)\n",
    "\n",
    "if response.status_code == 200:\n",
    "    data = response.json()\n",
    "    print(data)\n",
    "    print(data.keys())\n",
    "else:\n",
    "    print(\"Failed to retrieve data\")"
   ]
  },
  {
   "cell_type": "markdown",
   "metadata": {},
   "source": [
    "# OR Use kcat!\n",
    "It's a CLI (Command Line Interface). Previously known as kafkacat\n",
    "\n",
    "Install with your package installer such as:\n",
    "```\n",
    "brew install kcat\n",
    "apt-get install kcat\n",
    "& more\n",
    "```\n",
    "\n",
    "Use: \n",
    "```\n",
    "kcat -b <broker> -t <topic> -p <partition>\n",
    "```\n",
    "\n",
    "Ref: https://docs.confluent.io/platform/current/app-development/kafkacat-usage.html"
   ]
  },
  {
   "cell_type": "code",
   "execution_count": null,
   "metadata": {},
   "outputs": [],
   "source": [
    "! kcat -b localhost:9092 -t \"$topic\" -p earliest"
   ]
  },
  {
   "cell_type": "markdown",
   "metadata": {},
   "source": [
    "### See more options using\n",
    "```\n",
    "kcat\n",
    "```"
   ]
  },
  {
   "cell_type": "code",
   "execution_count": null,
   "metadata": {},
   "outputs": [],
   "source": [
    " http://128.2.204.215:8080/user/474920"
   ]
  }
 ],
 "metadata": {
  "colab": {
   "background_execution": "on",
   "collapsed_sections": [
    "DLrDFjKHiMMA",
    "xSjzWcB4iMME"
   ],
   "machine_shape": "hm",
   "provenance": []
  },
  "kernelspec": {
   "display_name": "Python 3",
   "language": "python",
   "name": "python3"
  },
  "language_info": {
   "codemirror_mode": {
    "name": "ipython",
    "version": 3
   },
   "file_extension": ".py",
   "mimetype": "text/x-python",
   "name": "python",
   "nbconvert_exporter": "python",
   "pygments_lexer": "ipython3",
   "version": "3.9.6 (default, Sep 13 2022, 22:03:16) \n[Clang 14.0.0 (clang-1400.0.29.102)]"
  },
  "vscode": {
   "interpreter": {
    "hash": "31f2aee4e71d21fbe5cf8b01ff0e069b9275f58929596ceb00d14d90e3e16cd6"
   }
  }
 },
 "nbformat": 4,
 "nbformat_minor": 1
}
