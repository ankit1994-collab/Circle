{
 "cells": [
  {
   "cell_type": "markdown",
   "id": "4f06f0cf",
   "metadata": {},
   "source": [
    "## Packages - Installation & Import"
   ]
  },
  {
   "cell_type": "code",
   "execution_count": 3,
   "id": "bdf73d85",
   "metadata": {
    "scrolled": true
   },
   "outputs": [
    {
     "name": "stdout",
     "output_type": "stream",
     "text": [
      "Requirement already satisfied: surprise in /Users/ameyamorbale/miniconda3/lib/python3.9/site-packages (0.1)\n",
      "Requirement already satisfied: scikit-surprise in /Users/ameyamorbale/miniconda3/lib/python3.9/site-packages (from surprise) (1.1.3)\n",
      "Requirement already satisfied: joblib>=1.0.0 in /Users/ameyamorbale/miniconda3/lib/python3.9/site-packages (from scikit-surprise->surprise) (1.2.0)\n",
      "Requirement already satisfied: numpy>=1.17.3 in /Users/ameyamorbale/miniconda3/lib/python3.9/site-packages (from scikit-surprise->surprise) (1.23.2)\n",
      "Requirement already satisfied: scipy>=1.3.2 in /Users/ameyamorbale/miniconda3/lib/python3.9/site-packages (from scikit-surprise->surprise) (1.10.0)\n"
     ]
    }
   ],
   "source": [
    "#surprise package installation\n",
    "!pip install surprise"
   ]
  },
  {
   "cell_type": "code",
   "execution_count": 1,
   "id": "0c747224",
   "metadata": {},
   "outputs": [],
   "source": [
    "#import relevant packages\n",
    "import pandas as pd\n",
    "import time\n",
    "import sys\n",
    "import pickle\n",
    "from surprise import Dataset, NormalPredictor, Reader,SVDpp,KNNBasic,accuracy,CoClustering\n",
    "from surprise.model_selection import cross_validate\n",
    "from surprise.model_selection import train_test_split\n",
    "\n",
    "\n",
    "\n",
    "colnames=['time', 'userid', 'movieid', 'ratings'] \n",
    "df = pd.read_csv('kafka_log_sample.csv', names=colnames, header=None)"
   ]
  },
  {
   "cell_type": "code",
   "execution_count": 2,
   "id": "623ddbd9",
   "metadata": {},
   "outputs": [
    {
     "data": {
      "text/plain": [
       "(1014609, 4)"
      ]
     },
     "execution_count": 2,
     "metadata": {},
     "output_type": "execute_result"
    }
   ],
   "source": [
    "df.shape"
   ]
  },
  {
   "cell_type": "markdown",
   "id": "ec1589f2",
   "metadata": {},
   "source": [
    "### Taking the top 1000 popular movies"
   ]
  },
  {
   "cell_type": "code",
   "execution_count": 3,
   "id": "589b482b",
   "metadata": {},
   "outputs": [],
   "source": [
    "top_1000_movies=df.groupby('movieid').size().sort_values(ascending=False)[:1000].index.tolist()\n",
    "with open('top_1000_movie_list_final.pkl', 'wb') as file:\n",
    "    pickle.dump(top_1000_movies, file)"
   ]
  },
  {
   "cell_type": "markdown",
   "id": "a5e9c6c4",
   "metadata": {},
   "source": [
    "## Load Data"
   ]
  },
  {
   "cell_type": "code",
   "execution_count": 4,
   "id": "628e74f2",
   "metadata": {},
   "outputs": [],
   "source": [
    "# A reader is still needed but only the rating_scale param is requiered.\n",
    "reader = Reader(rating_scale=(1, 5))\n",
    "\n",
    "# The columns must correspond to user id, item id and ratings (in that order).\n",
    "dataset = Dataset.load_from_df(df[[\"userid\", \"movieid\", \"ratings\"]], reader)\n",
    "\n",
    "trainset, testset = train_test_split(dataset, test_size=0.25)\n",
    "\n"
   ]
  },
  {
   "cell_type": "markdown",
   "id": "8da2bb5e",
   "metadata": {},
   "source": [
    "## Algorithm 1 : Singular Value Decompostition"
   ]
  },
  {
   "cell_type": "code",
   "execution_count": 5,
   "id": "928d1756",
   "metadata": {},
   "outputs": [
    {
     "name": "stdout",
     "output_type": "stream",
     "text": [
      "CPU times: user 7.7 s, sys: 42.7 ms, total: 7.74 s\n",
      "Wall time: 7.75 s\n",
      "RMSE: 0.6834\n"
     ]
    },
    {
     "data": {
      "text/plain": [
       "0.683399136655341"
      ]
     },
     "execution_count": 5,
     "metadata": {},
     "output_type": "execute_result"
    }
   ],
   "source": [
    "algo =  SVDpp()\n",
    "\n",
    "# Train the algorithm on the trainset, and predict ratings for the testset\n",
    "%time algo.fit(trainset)\n",
    "predictions = algo.test(testset)\n",
    "\n",
    "# Then compute RMSE\n",
    "accuracy.rmse(predictions)"
   ]
  },
  {
   "cell_type": "code",
   "execution_count": 6,
   "id": "fc598874",
   "metadata": {},
   "outputs": [
    {
     "data": {
      "text/html": [
       "<div>\n",
       "<style scoped>\n",
       "    .dataframe tbody tr th:only-of-type {\n",
       "        vertical-align: middle;\n",
       "    }\n",
       "\n",
       "    .dataframe tbody tr th {\n",
       "        vertical-align: top;\n",
       "    }\n",
       "\n",
       "    .dataframe thead th {\n",
       "        text-align: right;\n",
       "    }\n",
       "</style>\n",
       "<table border=\"1\" class=\"dataframe\">\n",
       "  <thead>\n",
       "    <tr style=\"text-align: right;\">\n",
       "      <th></th>\n",
       "      <th>time</th>\n",
       "      <th>userid</th>\n",
       "      <th>movieid</th>\n",
       "      <th>ratings</th>\n",
       "    </tr>\n",
       "  </thead>\n",
       "  <tbody>\n",
       "    <tr>\n",
       "      <th>0</th>\n",
       "      <td>2023-02-07T18:10:53</td>\n",
       "      <td>796421</td>\n",
       "      <td>set+it+off+1996</td>\n",
       "      <td>3</td>\n",
       "    </tr>\n",
       "    <tr>\n",
       "      <th>1</th>\n",
       "      <td>2023-02-07T18:10:53</td>\n",
       "      <td>7488</td>\n",
       "      <td>it+follows+2015</td>\n",
       "      <td>4</td>\n",
       "    </tr>\n",
       "    <tr>\n",
       "      <th>2</th>\n",
       "      <td>2023-02-07T18:10:54</td>\n",
       "      <td>720622</td>\n",
       "      <td>the+matrix+1999</td>\n",
       "      <td>4</td>\n",
       "    </tr>\n",
       "    <tr>\n",
       "      <th>3</th>\n",
       "      <td>2023-02-07T18:10:54</td>\n",
       "      <td>425095</td>\n",
       "      <td>harry+potter+and+the+deathly+hallows+part+1+2010</td>\n",
       "      <td>4</td>\n",
       "    </tr>\n",
       "    <tr>\n",
       "      <th>4</th>\n",
       "      <td>2023-02-07T18:10:54</td>\n",
       "      <td>731167</td>\n",
       "      <td>taking+care+of+business+1990</td>\n",
       "      <td>3</td>\n",
       "    </tr>\n",
       "  </tbody>\n",
       "</table>\n",
       "</div>"
      ],
      "text/plain": [
       "                  time  userid  \\\n",
       "0  2023-02-07T18:10:53  796421   \n",
       "1  2023-02-07T18:10:53    7488   \n",
       "2  2023-02-07T18:10:54  720622   \n",
       "3  2023-02-07T18:10:54  425095   \n",
       "4  2023-02-07T18:10:54  731167   \n",
       "\n",
       "                                            movieid  ratings  \n",
       "0                                   set+it+off+1996        3  \n",
       "1                                   it+follows+2015        4  \n",
       "2                                   the+matrix+1999        4  \n",
       "3  harry+potter+and+the+deathly+hallows+part+1+2010        4  \n",
       "4                      taking+care+of+business+1990        3  "
      ]
     },
     "execution_count": 6,
     "metadata": {},
     "output_type": "execute_result"
    }
   ],
   "source": [
    "df.head()"
   ]
  },
  {
   "cell_type": "markdown",
   "id": "26979b12",
   "metadata": {},
   "source": [
    "## Test Recommendations and inference time for a User ID using SVDpp"
   ]
  },
  {
   "cell_type": "code",
   "execution_count": 7,
   "id": "3ccd9534",
   "metadata": {
    "scrolled": false
   },
   "outputs": [
    {
     "name": "stdout",
     "output_type": "stream",
     "text": [
      "Top 10 movie recommendations\n",
      "CPU times: user 30.4 ms, sys: 10.3 ms, total: 40.7 ms\n",
      "Wall time: 41 ms\n"
     ]
    },
    {
     "data": {
      "text/html": [
       "<div>\n",
       "<style scoped>\n",
       "    .dataframe tbody tr th:only-of-type {\n",
       "        vertical-align: middle;\n",
       "    }\n",
       "\n",
       "    .dataframe tbody tr th {\n",
       "        vertical-align: top;\n",
       "    }\n",
       "\n",
       "    .dataframe thead th {\n",
       "        text-align: right;\n",
       "    }\n",
       "</style>\n",
       "<table border=\"1\" class=\"dataframe\">\n",
       "  <thead>\n",
       "    <tr style=\"text-align: right;\">\n",
       "      <th></th>\n",
       "      <th>movieid</th>\n",
       "      <th>predicted_rating</th>\n",
       "    </tr>\n",
       "  </thead>\n",
       "  <tbody>\n",
       "    <tr>\n",
       "      <th>0</th>\n",
       "      <td>the+shawshank+redemption+1994</td>\n",
       "      <td>4.428108</td>\n",
       "    </tr>\n",
       "    <tr>\n",
       "      <th>1</th>\n",
       "      <td>the+godfather+1972</td>\n",
       "      <td>4.323661</td>\n",
       "    </tr>\n",
       "    <tr>\n",
       "      <th>2</th>\n",
       "      <td>the+empire+strikes+back+1980</td>\n",
       "      <td>4.284843</td>\n",
       "    </tr>\n",
       "    <tr>\n",
       "      <th>3</th>\n",
       "      <td>the+usual+suspects+1995</td>\n",
       "      <td>4.274249</td>\n",
       "    </tr>\n",
       "    <tr>\n",
       "      <th>4</th>\n",
       "      <td>wait+until+dark+1967</td>\n",
       "      <td>4.260410</td>\n",
       "    </tr>\n",
       "    <tr>\n",
       "      <th>5</th>\n",
       "      <td>the+wrong+trousers+1993</td>\n",
       "      <td>4.249172</td>\n",
       "    </tr>\n",
       "    <tr>\n",
       "      <th>6</th>\n",
       "      <td>the+lord+of+the+rings+the+return+of+the+king+2003</td>\n",
       "      <td>4.240475</td>\n",
       "    </tr>\n",
       "    <tr>\n",
       "      <th>7</th>\n",
       "      <td>ordet+1955</td>\n",
       "      <td>4.235991</td>\n",
       "    </tr>\n",
       "    <tr>\n",
       "      <th>8</th>\n",
       "      <td>rear+window+1954</td>\n",
       "      <td>4.234633</td>\n",
       "    </tr>\n",
       "    <tr>\n",
       "      <th>9</th>\n",
       "      <td>casablanca+1942</td>\n",
       "      <td>4.232123</td>\n",
       "    </tr>\n",
       "    <tr>\n",
       "      <th>10</th>\n",
       "      <td>pulp+fiction+1994</td>\n",
       "      <td>4.227864</td>\n",
       "    </tr>\n",
       "    <tr>\n",
       "      <th>11</th>\n",
       "      <td>the+lord+of+the+rings+the+fellowship+of+the+ri...</td>\n",
       "      <td>4.226139</td>\n",
       "    </tr>\n",
       "    <tr>\n",
       "      <th>12</th>\n",
       "      <td>raiders+of+the+lost+ark+1981</td>\n",
       "      <td>4.223196</td>\n",
       "    </tr>\n",
       "    <tr>\n",
       "      <th>13</th>\n",
       "      <td>one+flew+over+the+cuckoos+nest+1975</td>\n",
       "      <td>4.222845</td>\n",
       "    </tr>\n",
       "    <tr>\n",
       "      <th>14</th>\n",
       "      <td>das+boot+1981</td>\n",
       "      <td>4.216364</td>\n",
       "    </tr>\n",
       "    <tr>\n",
       "      <th>15</th>\n",
       "      <td>monty+python+and+the+holy+grail+1975</td>\n",
       "      <td>4.213437</td>\n",
       "    </tr>\n",
       "    <tr>\n",
       "      <th>16</th>\n",
       "      <td>to+kill+a+mockingbird+1962</td>\n",
       "      <td>4.211643</td>\n",
       "    </tr>\n",
       "    <tr>\n",
       "      <th>17</th>\n",
       "      <td>braveheart+1995</td>\n",
       "      <td>4.203716</td>\n",
       "    </tr>\n",
       "    <tr>\n",
       "      <th>18</th>\n",
       "      <td>the+graduate+1967</td>\n",
       "      <td>4.201750</td>\n",
       "    </tr>\n",
       "    <tr>\n",
       "      <th>19</th>\n",
       "      <td>the+secret+in+their+eyes+2009</td>\n",
       "      <td>4.201427</td>\n",
       "    </tr>\n",
       "  </tbody>\n",
       "</table>\n",
       "</div>"
      ],
      "text/plain": [
       "                                              movieid  predicted_rating\n",
       "0                       the+shawshank+redemption+1994          4.428108\n",
       "1                                  the+godfather+1972          4.323661\n",
       "2                        the+empire+strikes+back+1980          4.284843\n",
       "3                             the+usual+suspects+1995          4.274249\n",
       "4                                wait+until+dark+1967          4.260410\n",
       "5                             the+wrong+trousers+1993          4.249172\n",
       "6   the+lord+of+the+rings+the+return+of+the+king+2003          4.240475\n",
       "7                                          ordet+1955          4.235991\n",
       "8                                    rear+window+1954          4.234633\n",
       "9                                     casablanca+1942          4.232123\n",
       "10                                  pulp+fiction+1994          4.227864\n",
       "11  the+lord+of+the+rings+the+fellowship+of+the+ri...          4.226139\n",
       "12                       raiders+of+the+lost+ark+1981          4.223196\n",
       "13                one+flew+over+the+cuckoos+nest+1975          4.222845\n",
       "14                                      das+boot+1981          4.216364\n",
       "15               monty+python+and+the+holy+grail+1975          4.213437\n",
       "16                         to+kill+a+mockingbird+1962          4.211643\n",
       "17                                    braveheart+1995          4.203716\n",
       "18                                  the+graduate+1967          4.201750\n",
       "19                      the+secret+in+their+eyes+2009          4.201427"
      ]
     },
     "execution_count": 7,
     "metadata": {},
     "output_type": "execute_result"
    }
   ],
   "source": [
    "%%time\n",
    "# Generate recommendations for user 1\n",
    "user_id =\"309409\"\n",
    "items_to_predict=top_1000_movies\n",
    "predicted_ratings = []\n",
    "for item_id in items_to_predict:\n",
    "    predicted_rating = algo.predict(user_id, item_id).est\n",
    "    predicted_ratings.append((item_id, predicted_rating))\n",
    "\n",
    "# Sort the predicted ratings in descending order\n",
    "predicted_ratings = sorted(predicted_ratings, key=lambda x: x[1], reverse=True)\n",
    "\n",
    "# Remove already watched movies\n",
    "predicted_ratings = pd.DataFrame(predicted_ratings,columns = ['movieid','predicted_rating'])\n",
    "#predicted_ratings['userid'] == user_id\n",
    "reference = df[['userid','movieid']].copy()\n",
    "predicted_ratings_unwatched = predicted_ratings[~predicted_ratings['movieid'].isin(reference[reference['userid'] == user_id]['movieid'])]\n",
    "\n",
    "print('Top 10 movie recommendations')\n",
    "#predicted_ratings[:10]\n",
    "predicted_ratings_unwatched[:20]\n",
    "                            \n",
    "                                                \n",
    "    \n",
    "\n",
    "\n",
    "\n"
   ]
  },
  {
   "cell_type": "markdown",
   "id": "1d2d64da",
   "metadata": {},
   "source": [
    "## Algorithm 2 : Co-Clustering"
   ]
  },
  {
   "cell_type": "code",
   "execution_count": 8,
   "id": "82ed08aa",
   "metadata": {},
   "outputs": [
    {
     "name": "stdout",
     "output_type": "stream",
     "text": [
      "CPU times: user 39.2 s, sys: 82.9 ms, total: 39.3 s\n",
      "Wall time: 39.3 s\n",
      "RMSE: 0.7984\n"
     ]
    },
    {
     "data": {
      "text/plain": [
       "0.7984214776212446"
      ]
     },
     "execution_count": 8,
     "metadata": {},
     "output_type": "execute_result"
    }
   ],
   "source": [
    "algo2 =  CoClustering()\n",
    "\n",
    "# Train the algorithm on the trainset, and predict ratings for the testset\n",
    "%time algo2.fit(trainset)\n",
    "predictions2 = algo2.test(testset)\n",
    "\n",
    "# Then compute RMSE\n",
    "accuracy.rmse(predictions2)"
   ]
  },
  {
   "cell_type": "markdown",
   "id": "5e54f133",
   "metadata": {},
   "source": [
    "## Test Recommendations and inference time for a User ID using CoClustering"
   ]
  },
  {
   "cell_type": "code",
   "execution_count": 9,
   "id": "edc93274",
   "metadata": {},
   "outputs": [
    {
     "name": "stdout",
     "output_type": "stream",
     "text": [
      "Top 10 movie recommendations\n",
      "CPU times: user 34.7 ms, sys: 7.29 ms, total: 42 ms\n",
      "Wall time: 41.9 ms\n"
     ]
    },
    {
     "data": {
      "text/html": [
       "<div>\n",
       "<style scoped>\n",
       "    .dataframe tbody tr th:only-of-type {\n",
       "        vertical-align: middle;\n",
       "    }\n",
       "\n",
       "    .dataframe tbody tr th {\n",
       "        vertical-align: top;\n",
       "    }\n",
       "\n",
       "    .dataframe thead th {\n",
       "        text-align: right;\n",
       "    }\n",
       "</style>\n",
       "<table border=\"1\" class=\"dataframe\">\n",
       "  <thead>\n",
       "    <tr style=\"text-align: right;\">\n",
       "      <th></th>\n",
       "      <th>movieid</th>\n",
       "      <th>predicted_rating</th>\n",
       "    </tr>\n",
       "  </thead>\n",
       "  <tbody>\n",
       "    <tr>\n",
       "      <th>0</th>\n",
       "      <td>death+proof+2007</td>\n",
       "      <td>4.918604</td>\n",
       "    </tr>\n",
       "    <tr>\n",
       "      <th>1</th>\n",
       "      <td>django+unchained+2012</td>\n",
       "      <td>4.908837</td>\n",
       "    </tr>\n",
       "    <tr>\n",
       "      <th>2</th>\n",
       "      <td>jackie+brown+1997</td>\n",
       "      <td>4.890591</td>\n",
       "    </tr>\n",
       "    <tr>\n",
       "      <th>3</th>\n",
       "      <td>kill+bill+vol.+2+2004</td>\n",
       "      <td>4.858979</td>\n",
       "    </tr>\n",
       "    <tr>\n",
       "      <th>4</th>\n",
       "      <td>pulp+fiction+1994</td>\n",
       "      <td>4.742707</td>\n",
       "    </tr>\n",
       "    <tr>\n",
       "      <th>5</th>\n",
       "      <td>the+wrong+trousers+1993</td>\n",
       "      <td>4.719520</td>\n",
       "    </tr>\n",
       "    <tr>\n",
       "      <th>6</th>\n",
       "      <td>das+boot+1981</td>\n",
       "      <td>4.687191</td>\n",
       "    </tr>\n",
       "    <tr>\n",
       "      <th>7</th>\n",
       "      <td>the+lord+of+the+rings+the+fellowship+of+the+ri...</td>\n",
       "      <td>4.682292</td>\n",
       "    </tr>\n",
       "    <tr>\n",
       "      <th>8</th>\n",
       "      <td>the+secret+in+their+eyes+2009</td>\n",
       "      <td>4.681073</td>\n",
       "    </tr>\n",
       "    <tr>\n",
       "      <th>9</th>\n",
       "      <td>raiders+of+the+lost+ark+1981</td>\n",
       "      <td>4.678215</td>\n",
       "    </tr>\n",
       "  </tbody>\n",
       "</table>\n",
       "</div>"
      ],
      "text/plain": [
       "                                             movieid  predicted_rating\n",
       "0                                   death+proof+2007          4.918604\n",
       "1                              django+unchained+2012          4.908837\n",
       "2                                  jackie+brown+1997          4.890591\n",
       "3                              kill+bill+vol.+2+2004          4.858979\n",
       "4                                  pulp+fiction+1994          4.742707\n",
       "5                            the+wrong+trousers+1993          4.719520\n",
       "6                                      das+boot+1981          4.687191\n",
       "7  the+lord+of+the+rings+the+fellowship+of+the+ri...          4.682292\n",
       "8                      the+secret+in+their+eyes+2009          4.681073\n",
       "9                       raiders+of+the+lost+ark+1981          4.678215"
      ]
     },
     "execution_count": 9,
     "metadata": {},
     "output_type": "execute_result"
    }
   ],
   "source": [
    "%%time\n",
    "# Generate recommendations for user 1\n",
    "user_id = 454384\n",
    "items_to_predict = top_1000_movies\n",
    "predicted_ratings = []\n",
    "for item_id in items_to_predict:\n",
    "    predicted_rating = algo2.predict(user_id, item_id).est\n",
    "    predicted_ratings.append((item_id, predicted_rating))\n",
    "\n",
    "# Sort the predicted ratings in descending order\n",
    "predicted_ratings = sorted(predicted_ratings, key=lambda x: x[1], reverse=True)\n",
    "\n",
    "# Remove already watched movies\n",
    "predicted_ratings = pd.DataFrame(predicted_ratings,columns = ['movieid','predicted_rating'])\n",
    "#predicted_ratings['userid'] == user_id\n",
    "reference = df[['userid','movieid']].copy()\n",
    "predicted_ratings_unwatched = predicted_ratings[~predicted_ratings['movieid'].isin(reference[reference['userid'] == user_id]['movieid'])]\n",
    "\n",
    "print('Top 10 movie recommendations')\n",
    "#predicted_ratings[:10]\n",
    "predicted_ratings_unwatched[:10]\n",
    "                            \n",
    "                                                \n",
    "    \n",
    "\n",
    "\n",
    "\n",
    "\n"
   ]
  },
  {
   "cell_type": "markdown",
   "id": "09da851b",
   "metadata": {},
   "source": [
    "## Loading SVDpp model in a pickle file - Production model"
   ]
  },
  {
   "cell_type": "code",
   "execution_count": 10,
   "id": "b15eeeba",
   "metadata": {},
   "outputs": [],
   "source": [
    "import pickle\n",
    "\n",
    "with open('movie_recommender_model_final.pkl', 'wb') as file:\n",
    "    pickle.dump(algo, file)"
   ]
  },
  {
   "cell_type": "markdown",
   "id": "16bd0f7c",
   "metadata": {},
   "source": [
    "## Loading Co-clustering model in a pickle file"
   ]
  },
  {
   "cell_type": "code",
   "execution_count": 12,
   "id": "31aa1c20",
   "metadata": {},
   "outputs": [],
   "source": [
    "import pickle\n",
    "\n",
    "with open('movie_recommender_model_co_clustering.pkl', 'wb') as file:\n",
    "    pickle.dump(algo2, file)"
   ]
  }
 ],
 "metadata": {
  "kernelspec": {
   "display_name": "Python 3",
   "language": "python",
   "name": "python3"
  },
  "language_info": {
   "codemirror_mode": {
    "name": "ipython",
    "version": 3
   },
   "file_extension": ".py",
   "mimetype": "text/x-python",
   "name": "python",
   "nbconvert_exporter": "python",
   "pygments_lexer": "ipython3",
   "version": "3.9.6 (default, Sep 13 2022, 22:03:16) \n[Clang 14.0.0 (clang-1400.0.29.102)]"
  },
  "vscode": {
   "interpreter": {
    "hash": "31f2aee4e71d21fbe5cf8b01ff0e069b9275f58929596ceb00d14d90e3e16cd6"
   }
  }
 },
 "nbformat": 4,
 "nbformat_minor": 5
}
