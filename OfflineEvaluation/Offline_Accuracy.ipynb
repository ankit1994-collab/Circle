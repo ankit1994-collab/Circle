{
 "cells": [
  {
   "cell_type": "markdown",
   "id": "4f06f0cf",
   "metadata": {},
   "source": [
    "## Packages - Installation & Import"
   ]
  },
  {
   "cell_type": "code",
   "execution_count": null,
   "id": "bdf73d85",
   "metadata": {
    "scrolled": false
   },
   "outputs": [],
   "source": [
    "#surprise package installation\n",
    "!pip install surprise"
   ]
  },
  {
   "cell_type": "code",
   "execution_count": 1,
   "id": "0c747224",
   "metadata": {},
   "outputs": [],
   "source": [
    "#import relevant packages\n",
    "import random\n",
    "import pandas as pd\n",
    "import time\n",
    "import sys\n",
    "import pickle\n",
    "from surprise import Dataset, NormalPredictor, Reader,SVDpp,KNNBasic,accuracy,CoClustering\n",
    "from surprise.model_selection import cross_validate\n",
    "from surprise.model_selection import train_test_split\n",
    "\n",
    "\n",
    "\n",
    "colnames=['time', 'userid', 'movieid', 'ratings'] \n",
    "df = pd.read_csv('kafka_log_sample.csv', names=colnames, header=None)"
   ]
  },
  {
   "cell_type": "markdown",
   "id": "ec1589f2",
   "metadata": {},
   "source": [
    "### Taking the top 1000 popular movies"
   ]
  },
  {
   "cell_type": "code",
   "execution_count": 2,
   "id": "589b482b",
   "metadata": {},
   "outputs": [],
   "source": [
    "top_1000_movies=df.groupby('movieid').size().sort_values(ascending=False)[:1000].index.tolist()\n",
    "# with open('top_1000_movie_list_final.pkl', 'wb') as file:\n",
    "#     pickle.dump(top_1000_movies, file)"
   ]
  },
  {
   "cell_type": "markdown",
   "id": "a5e9c6c4",
   "metadata": {},
   "source": [
    "## Load & Split Data "
   ]
  },
  {
   "cell_type": "code",
   "execution_count": 3,
   "id": "628e74f2",
   "metadata": {},
   "outputs": [],
   "source": [
    "# A reader is still needed but only the rating_scale param is requiered.\n",
    "reader = Reader(rating_scale=(1, 5))\n",
    "\n",
    "# The columns must correspond to user id, item id and ratings (in that order).\n",
    "dataset = Dataset.load_from_df(df[[\"userid\", \"movieid\", \"ratings\"]], reader)\n",
    "\n",
    "trainset, testset = train_test_split(dataset, test_size=0.25)\n",
    "\n"
   ]
  },
  {
   "cell_type": "markdown",
   "id": "8da2bb5e",
   "metadata": {},
   "source": [
    "## Algorithm : Singular Value Decompostition"
   ]
  },
  {
   "cell_type": "markdown",
   "id": "e8e02d02",
   "metadata": {},
   "source": [
    "### Evaluation on entire test data"
   ]
  },
  {
   "cell_type": "code",
   "execution_count": 4,
   "id": "928d1756",
   "metadata": {},
   "outputs": [
    {
     "name": "stdout",
     "output_type": "stream",
     "text": [
      "CPU times: user 6.01 s, sys: 63 ms, total: 6.08 s\n",
      "Wall time: 6.12 s\n",
      "RMSE: 0.6831\n"
     ]
    },
    {
     "data": {
      "text/plain": [
       "0.6830529639938385"
      ]
     },
     "execution_count": 4,
     "metadata": {},
     "output_type": "execute_result"
    }
   ],
   "source": [
    "algo =  SVDpp()\n",
    "\n",
    "# Train the algorithm on the trainset, and predict ratings for the testset\n",
    "%time algo.fit(trainset)\n",
    "predictions = algo.test(testset)\n",
    "\n",
    "# Then compute RMSE\n",
    "accuracy.rmse(predictions)"
   ]
  },
  {
   "cell_type": "markdown",
   "id": "b79a039b",
   "metadata": {},
   "source": [
    "## Avoiding Pitfalls in Evaluation"
   ]
  },
  {
   "cell_type": "markdown",
   "id": "78ad0f30",
   "metadata": {},
   "source": [
    "### 1) Evaluation on test data across Splices - Gender"
   ]
  },
  {
   "cell_type": "markdown",
   "id": "26153fde",
   "metadata": {},
   "source": [
    "### Gender"
   ]
  },
  {
   "cell_type": "code",
   "execution_count": 5,
   "id": "002374ae",
   "metadata": {},
   "outputs": [],
   "source": [
    "#import user gender details\n",
    "test_user_details = pd.read_csv('user_details.csv')\n",
    "# divide testset into male and female\n",
    "male = list(test_user_details[test_user_details['gender'] == 'M']['user_id'])\n",
    "female = list(test_user_details[test_user_details['gender'] == 'F']['user_id'])\n",
    "\n",
    "testsetsample = random.sample(testset,2000)\n",
    "test_male = [i for i in testsetsample if i[0] in male]\n",
    "test_female = [i for i in testsetsample if i[0] in female]\n"
   ]
  },
  {
   "cell_type": "markdown",
   "id": "2f8aadf2",
   "metadata": {},
   "source": [
    "#### Results expected to be consistent across genders"
   ]
  },
  {
   "cell_type": "markdown",
   "id": "b14b41b6",
   "metadata": {},
   "source": [
    "#### Male"
   ]
  },
  {
   "cell_type": "code",
   "execution_count": 8,
   "id": "06ce8aa9",
   "metadata": {},
   "outputs": [
    {
     "name": "stdout",
     "output_type": "stream",
     "text": [
      "RMSE: 0.6812\n"
     ]
    },
    {
     "data": {
      "text/plain": [
       "0.6812067194355739"
      ]
     },
     "execution_count": 8,
     "metadata": {},
     "output_type": "execute_result"
    }
   ],
   "source": [
    "predictions_m = algo.test(test_male)\n",
    "accuracy.rmse(predictions_m)"
   ]
  },
  {
   "cell_type": "markdown",
   "id": "93e58319",
   "metadata": {},
   "source": [
    "#### Female"
   ]
  },
  {
   "cell_type": "code",
   "execution_count": 9,
   "id": "6ed23c61",
   "metadata": {},
   "outputs": [
    {
     "name": "stdout",
     "output_type": "stream",
     "text": [
      "RMSE: 0.6829\n"
     ]
    },
    {
     "data": {
      "text/plain": [
       "0.682862691182107"
      ]
     },
     "execution_count": 9,
     "metadata": {},
     "output_type": "execute_result"
    }
   ],
   "source": [
    "predictions_f = algo.test(test_female)\n",
    "accuracy.rmse(predictions_f)"
   ]
  },
  {
   "cell_type": "markdown",
   "id": "f00d9adb",
   "metadata": {},
   "source": [
    "### 2) K-Fold Crossvalidation "
   ]
  },
  {
   "cell_type": "markdown",
   "id": "64f3643b",
   "metadata": {},
   "source": [
    "#### Results expected to be consistent across folds"
   ]
  },
  {
   "cell_type": "code",
   "execution_count": 11,
   "id": "e2d7fe4f",
   "metadata": {},
   "outputs": [
    {
     "name": "stdout",
     "output_type": "stream",
     "text": [
      "Evaluating RMSE of algorithm SVDpp on 5 split(s).\n",
      "\n",
      "                  Fold 1  Fold 2  Fold 3  Fold 4  Fold 5  Mean    Std     \n",
      "RMSE (testset)    0.6830  0.6814  0.6811  0.6823  0.6831  0.6822  0.0008  \n",
      "Fit time          6.39    6.59    6.58    5.97    5.27    6.16    0.50    \n",
      "Test time         1.93    1.69    1.53    1.37    1.20    1.54    0.25    \n"
     ]
    },
    {
     "data": {
      "text/plain": [
       "{'test_rmse': array([0.68295863, 0.6814358 , 0.68113572, 0.68234366, 0.68307372]),\n",
       " 'fit_time': (6.3873066902160645,\n",
       "  6.5910162925720215,\n",
       "  6.58030891418457,\n",
       "  5.974684000015259,\n",
       "  5.270564079284668),\n",
       " 'test_time': (1.9346349239349365,\n",
       "  1.686007022857666,\n",
       "  1.5266940593719482,\n",
       "  1.3721983432769775,\n",
       "  1.2038259506225586)}"
      ]
     },
     "execution_count": 11,
     "metadata": {},
     "output_type": "execute_result"
    }
   ],
   "source": [
    "from surprise.model_selection import cross_validate\n",
    "\n",
    "cross_validate(algo,dataset,measures=['RMSE'],cv=5, verbose=True, n_jobs=-1)"
   ]
  }
 ],
 "metadata": {
  "kernelspec": {
   "display_name": "Python 3 (ipykernel)",
   "language": "python",
   "name": "python3"
  },
  "language_info": {
   "codemirror_mode": {
    "name": "ipython",
    "version": 3
   },
   "file_extension": ".py",
   "mimetype": "text/x-python",
   "name": "python",
   "nbconvert_exporter": "python",
   "pygments_lexer": "ipython3",
   "version": "3.9.16"
  }
 },
 "nbformat": 4,
 "nbformat_minor": 5
}
